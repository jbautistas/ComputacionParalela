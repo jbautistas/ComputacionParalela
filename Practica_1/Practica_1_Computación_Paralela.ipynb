{
  "nbformat": 4,
  "nbformat_minor": 0,
  "metadata": {
    "colab": {
      "provenance": [],
      "gpuType": "T4",
      "collapsed_sections": [
        "qc1rVHL1A_Ix",
        "xstkt9m073A2"
      ]
    },
    "kernelspec": {
      "name": "python3",
      "display_name": "Python 3"
    },
    "language_info": {
      "name": "python"
    },
    "gpuClass": "standard",
    "accelerator": "GPU"
  },
  "cells": [
    {
      "cell_type": "markdown",
      "source": [
        "# **MULTIPLICACIÓN DE MATRICES**"
      ],
      "metadata": {
        "id": "qXwmY7hMY4BY"
      }
    },
    {
      "cell_type": "code",
      "execution_count": 23,
      "metadata": {
        "colab": {
          "base_uri": "https://localhost:8080/"
        },
        "id": "AOJsYLweJXfX",
        "outputId": "13aba314-9a93-435d-8162-a0693ecd2235"
      },
      "outputs": [
        {
          "output_type": "stream",
          "name": "stdout",
          "text": [
            "Looking in indexes: https://pypi.org/simple, https://us-python.pkg.dev/colab-wheels/public/simple/\n",
            "Collecting git+https://github.com/andreinechaev/nvcc4jupyter.git\n",
            "  Cloning https://github.com/andreinechaev/nvcc4jupyter.git to /tmp/pip-req-build-pb4e_egd\n",
            "  Running command git clone --filter=blob:none --quiet https://github.com/andreinechaev/nvcc4jupyter.git /tmp/pip-req-build-pb4e_egd\n",
            "  Resolved https://github.com/andreinechaev/nvcc4jupyter.git to commit aac710a35f52bb78ab34d2e52517237941399eff\n",
            "  Preparing metadata (setup.py) ... \u001b[?25l\u001b[?25hdone\n"
          ]
        }
      ],
      "source": [
        "!pip install git+https://github.com/andreinechaev/nvcc4jupyter.git"
      ]
    },
    {
      "cell_type": "code",
      "execution_count": 24,
      "metadata": {
        "id": "rLmAjayhXqGc",
        "colab": {
          "base_uri": "https://localhost:8080/"
        },
        "outputId": "b1851f3b-2362-4a33-f95f-7dd41de6ce5a"
      },
      "outputs": [
        {
          "output_type": "stream",
          "name": "stdout",
          "text": [
            "The nvcc_plugin extension is already loaded. To reload it, use:\n",
            "  %reload_ext nvcc_plugin\n"
          ]
        }
      ],
      "source": [
        "%load_ext nvcc_plugin"
      ]
    },
    {
      "cell_type": "markdown",
      "source": [
        "\n",
        "\n",
        "---\n",
        "\n",
        "# Multiplicacion clasica y de stressen secuencial"
      ],
      "metadata": {
        "id": "qc1rVHL1A_Ix"
      }
    },
    {
      "cell_type": "markdown",
      "source": [
        "Sin punteros"
      ],
      "metadata": {
        "id": "BrHFWlKSBc6R"
      }
    },
    {
      "cell_type": "code",
      "source": [
        "%%cu\n",
        "#include <stdio.h>\n",
        "#include <stdlib.h>\n",
        "#include <math.h>\n",
        "\n",
        "int NUM = 3;\n",
        "float a = 1.0;\n",
        "\n",
        "int main(void){\n",
        "  clock_t start, end;\n",
        "  float A[NUM][NUM];\n",
        "  float B[NUM][NUM];\n",
        "  float C[NUM][NUM];\n",
        "\n",
        "  for(int i = 0; i < NUM; i ++){\n",
        "      for(int j = 0; j < NUM; j++){\n",
        "          A[i][j] = (float)rand()/(float)(RAND_MAX/a);\n",
        "          B[i][j] = (float)rand()/(float)(RAND_MAX/a);\n",
        "      }\n",
        "  }\n",
        "\n",
        "  // classic multiplication\n",
        "  start = clock();\n",
        "\n",
        "  for(int i = 0; i < NUM; i ++){\n",
        "      for(int j = 0; j < NUM; j++){\n",
        "        C[i][j] = 0;\n",
        "        for(int k = 0; k < NUM; k++){\n",
        "            C[i][j] += A[i][k] * B[k][j];\n",
        "        }\n",
        "      }\n",
        "  }\n",
        "\n",
        "  printf(\"A: \\n\");\n",
        "\n",
        "  for (int i = 0; i < NUM; i++) {\n",
        "      for (int j = 0; j < NUM; j++) {\n",
        "          printf(\"%f\", A[i][j]);\n",
        "          printf(\" \");\n",
        "      }\n",
        "      printf(\"\\n\");\n",
        "  }\n",
        "\n",
        "  printf(\"B: \\n\");\n",
        "\n",
        "  for (int i = 0; i < NUM; i++) {\n",
        "      for (int j = 0; j < NUM; j++) {\n",
        "          printf(\"%f\", B[i][j]);\n",
        "          printf(\" \");\n",
        "      }\n",
        "      printf(\"\\n\");\n",
        "  }\n",
        "\n",
        "  printf(\"C: \\n\");\n",
        "\n",
        "  for (int i = 0; i < NUM; i++) {\n",
        "      for (int j = 0; j < NUM; j++) {\n",
        "          printf(\"%f\", C[i][j]);\n",
        "          printf(\" \");\n",
        "      }\n",
        "      printf(\"\\n\");\n",
        "  }\n",
        "\n",
        "  end=clock();\n",
        "  double cpu_time_used = ((double) (end-start))/ CLOCKS_PER_SEC;\n",
        "  printf(\"classic time: %f\",cpu_time_used);\n",
        "}"
      ],
      "metadata": {
        "colab": {
          "base_uri": "https://localhost:8080/"
        },
        "id": "1B4xWBbA-Dq7",
        "outputId": "d622a393-cc1a-4c1d-f952-929244577c84"
      },
      "execution_count": null,
      "outputs": [
        {
          "output_type": "stream",
          "name": "stdout",
          "text": [
            "A: \n",
            "0.840188 0.783099 0.911647 \n",
            "0.335223 0.277775 0.477397 \n",
            "0.364784 0.952230 0.635712 \n",
            "B: \n",
            "0.394383 0.798440 0.197551 \n",
            "0.768230 0.553970 0.628871 \n",
            "0.513401 0.916195 0.717297 \n",
            "C: \n",
            "1.400996 1.939900 1.312371 \n",
            "0.590697 0.858923 0.583344 \n",
            "1.201771 1.401201 1.126887 \n",
            "classic time: 0.000025\n"
          ]
        }
      ]
    },
    {
      "cell_type": "code",
      "source": [
        "%%cu\n",
        "#include <stdio.h>\n",
        "#include <stdlib.h>\n",
        "#include <math.h>\n",
        "\n",
        "int NUM = 2;\n",
        "float a = 5.0;\n",
        "\n",
        "\n",
        "int main(void){\n",
        "  clock_t start, end;\n",
        "  int A[NUM][NUM];\n",
        "  int B[NUM][NUM];\n",
        "  int C[NUM][NUM];\n",
        "\n",
        "  for(int i = 0; i < NUM; i ++){\n",
        "      for(int j = 0; j < NUM; j++){\n",
        "          A[i][j] = (float)rand()/(float)(RAND_MAX/a);\n",
        "          B[i][j] = (float)rand()/(float)(RAND_MAX/a);\n",
        "      }\n",
        "  }\n",
        "  //printf();\n",
        "\n",
        "  // stressen multiplication\n",
        "  start = clock();\n",
        "\n",
        "  // create matrixs M1 - M7 with sizes NUM/2 * NUM/2\n",
        "\n",
        "  int M1[NUM/2][NUM/2];\n",
        "  int M2[NUM/2][NUM/2];\n",
        "  int M3[NUM/2][NUM/2];\n",
        "  int M4[NUM/2][NUM/2];\n",
        "  int M5[NUM/2][NUM/2];\n",
        "  int M6[NUM/2][NUM/2];\n",
        "  int M7[NUM/2][NUM/2];\n",
        "\n",
        "  // fill matrix acording stressen algorithm \n",
        "\n",
        "  for(int i = 0; i < NUM/2; i ++){\n",
        "      for(int j = 0; j < NUM/2; j++){\n",
        "        M1[i][j] = (A[i][j] + A[NUM/2 + i][NUM/2 + j]) * (B[i][j] = B[NUM/2 + i][NUM/2 + j]);\n",
        "        M2[i][j] = (A[NUM/2 + i][j] + A[NUM/2 + i][NUM/2 + j]) * B[i][j];\n",
        "        M3[i][j] = A[i][j] * (B[i][j] + B[NUM/2 + i][NUM/2 + j]);\n",
        "        M4[i][j] = A[NUM/2 + i][NUM/2 + j] * (B[NUM/2 + i][i] - B[i][j]);\n",
        "        M5[i][j] = (A[i][j] + A[i][NUM/2 + j]) * B[NUM/2 + i][NUM/2 + j];\n",
        "        M6[i][j] = (A[NUM/2 + i][j] - A[i][j]) * (B[i][j] + B[i][NUM/2 + j]);\n",
        "        M7[i][j] = (A[i][j] - A[NUM/2 + i][NUM/2 + j]) * (B[NUM/2 + i][j] + B[NUM/2 + i][NUM/2 + j]);\n",
        "      }\n",
        "  }\n",
        "\n",
        "  for(int i = 0; i < NUM/2; i++) {\n",
        "      for(int j = 0; j < NUM/2; j++) {\n",
        "          C[i][j] = M1[i][j] + M4[i][j] - M5[i][j] + M7[i][j];\n",
        "          C[i][NUM/2 + j] = M3[i][j] + M5[i][j];\n",
        "          C[NUM/2 + i][j] = M2[i][j] + M4[i][j];\n",
        "          C[NUM/2 + i][NUM/2 + j] = M1[i][j] - M2[i][j] + M3[i][j] + M6[i][j];\n",
        "      }\n",
        "  }\n",
        "  end=clock();\n",
        "  double cpu_time_used = ((double) (end-start))/ CLOCKS_PER_SEC;\n",
        "  printf(\"stressen time: %f\",cpu_time_used);\n",
        "\n",
        "  printf(\"A: \\n\");\n",
        "\n",
        "  for (int i = 0; i < NUM; i++) {\n",
        "      for (int j = 0; j < NUM; j++) {\n",
        "          printf(\"%f\", A[i][j]);\n",
        "          printf(\" \");\n",
        "      }\n",
        "      printf(\"\\n\");\n",
        "  }\n",
        "\n",
        "  printf(\"B: \\n\");\n",
        "\n",
        "  for (int i = 0; i < NUM; i++) {\n",
        "      for (int j = 0; j < NUM; j++) {\n",
        "          printf(\"%f\", B[i][j]);\n",
        "          printf(\" \");\n",
        "      }\n",
        "      printf(\"\\n\");\n",
        "  }\n",
        "\n",
        "  printf(\"M1: \\n\");\n",
        "\n",
        "  for (int i = 0; i < NUM; i++) {\n",
        "      for (int j = 0; j < NUM; j++) {\n",
        "          printf(\"%f\", M1[i][j]);\n",
        "          printf(\" \");\n",
        "      }\n",
        "      printf(\"\\n\");\n",
        "  }\n",
        "\n",
        "  printf(\"M2: \\n\");\n",
        "\n",
        "  for (int i = 0; i < NUM; i++) {\n",
        "      for (int j = 0; j < NUM; j++) {\n",
        "          printf(\"%f\", M2[i][j]);\n",
        "          printf(\" \");\n",
        "      }\n",
        "      printf(\"\\n\");\n",
        "  }\n",
        "\n",
        "  printf(\"M2: \\n\");\n",
        "\n",
        "  for (int i = 0; i < NUM; i++) {\n",
        "      for (int j = 0; j < NUM; j++) {\n",
        "          printf(\"%f\", M2[i][j]);\n",
        "          printf(\" \");\n",
        "      }\n",
        "      printf(\"\\n\");\n",
        "  }\n",
        "\n",
        "  printf(\"M3: \\n\");\n",
        "\n",
        "  for (int i = 0; i < NUM; i++) {\n",
        "      for (int j = 0; j < NUM; j++) {\n",
        "          printf(\"%f\", M3[i][j]);\n",
        "          printf(\" \");\n",
        "      }\n",
        "      printf(\"\\n\");\n",
        "  }\n",
        "\n",
        "  printf(\"M4: \\n\");\n",
        "\n",
        "  for (int i = 0; i < NUM; i++) {\n",
        "      for (int j = 0; j < NUM; j++) {\n",
        "          printf(\"%f\", M4[i][j]);\n",
        "          printf(\" \");\n",
        "      }\n",
        "      printf(\"\\n\");\n",
        "  }\n",
        "\n",
        "  printf(\"M5: \\n\");\n",
        "\n",
        "  for (int i = 0; i < NUM; i++) {\n",
        "      for (int j = 0; j < NUM; j++) {\n",
        "          printf(\"%f\", M5[i][j]);\n",
        "          printf(\" \");\n",
        "      }\n",
        "      printf(\"\\n\");\n",
        "  }\n",
        "\n",
        "  printf(\"M6: \\n\");\n",
        "\n",
        "  for (int i = 0; i < NUM; i++) {\n",
        "      for (int j = 0; j < NUM; j++) {\n",
        "          printf(\"%f\", M6[i][j]);\n",
        "          printf(\" \");\n",
        "      }\n",
        "      printf(\"\\n\");\n",
        "  }\n",
        "\n",
        "  printf(\"M7: \\n\");\n",
        "\n",
        "  for (int i = 0; i < NUM; i++) {\n",
        "      for (int j = 0; j < NUM; j++) {\n",
        "          printf(\"%f\", M7[i][j]);\n",
        "          printf(\" \");\n",
        "      }\n",
        "      printf(\"\\n\");\n",
        "  }\n",
        "\n",
        "  printf(\"C: \\n\");\n",
        "\n",
        "  for (int i = 0; i < NUM; i++) {\n",
        "      for (int j = 0; j < NUM; j++) {\n",
        "          printf(\"%f\", C[i][j]);\n",
        "          printf(\" \");\n",
        "      }\n",
        "      printf(\"\\n\");\n",
        "  }\n",
        "\n",
        "}"
      ],
      "metadata": {
        "colab": {
          "base_uri": "https://localhost:8080/"
        },
        "id": "2XjTkiETHWYm",
        "outputId": "db0b46b0-453c-40d8-9348-ebd00da65524"
      },
      "execution_count": null,
      "outputs": [
        {
          "output_type": "stream",
          "name": "stdout",
          "text": [
            "stressen time: 0.000001A: \n",
            "0.000001 0.000001 \n",
            "0.000001 0.000001 \n",
            "B: \n",
            "0.000001 0.000001 \n",
            "0.000001 0.000001 \n",
            "M1: \n",
            "0.000001 0.000001 \n",
            "0.000001 0.000001 \n",
            "M2: \n",
            "0.000001 0.000001 \n",
            "0.000001 0.000001 \n",
            "M2: \n",
            "0.000001 0.000001 \n",
            "0.000001 0.000001 \n",
            "M3: \n",
            "0.000001 0.000001 \n",
            "0.000001 0.000001 \n",
            "M4: \n",
            "0.000001 0.000001 \n",
            "0.000001 0.000001 \n",
            "M5: \n",
            "0.000001 0.000001 \n",
            "0.000001 0.000001 \n",
            "M6: \n",
            "0.000001 0.000001 \n",
            "0.000001 0.000001 \n",
            "M7: \n",
            "0.000001 0.000001 \n",
            "0.000001 0.000001 \n",
            "C: \n",
            "0.000001 0.000001 \n",
            "0.000001 0.000001 \n",
            "\n"
          ]
        }
      ]
    },
    {
      "cell_type": "markdown",
      "source": [
        "Con punteros"
      ],
      "metadata": {
        "id": "eez1MoPGBskV"
      }
    },
    {
      "cell_type": "code",
      "source": [
        "%%cu\n",
        "#include <stdio.h>\n",
        "#include <stdlib.h>\n",
        "#include <math.h>\n",
        "\n",
        "int NUM = 1024;\n",
        "\n",
        "int main(void){\n",
        "  clock_t start, end;\n",
        "  start = clock();\n",
        "\n",
        "  float *A = (float *)malloc(NUM * NUM * sizeof(float));\n",
        "  float *B = (float *)malloc(NUM * NUM * sizeof(float));\n",
        "  float *C = (float *)malloc(NUM * NUM * sizeof(float));\n",
        "  float a = 1.0;\n",
        "\n",
        "  // Matrix A and B have random values\n",
        "  for (int i = 0; i < NUM; i++) {\n",
        "      for (int j = 0; j < NUM; j++) {\n",
        "          *(A + i * NUM + j) = (float)rand()/(float)(RAND_MAX/a);\n",
        "          *(B + i * NUM + j) = (float)rand()/(float)(RAND_MAX/a);\n",
        "      }\n",
        "  }\n",
        "\n",
        "  for (int i = 0; i < NUM; i++) {\n",
        "      for (int j = 0; j < NUM; j++) {\n",
        "        *(C + i * NUM + j) = 0;\n",
        "        for (int k = 0; k < NUM; k++) {\n",
        "            *(C + i * NUM + j) += (*(A + i * NUM + k)) * (*(B + k * NUM + j));\n",
        "        }\n",
        "      }\n",
        "  }\n",
        "\n",
        "  /*printf(\"A: \\n\");\n",
        "\n",
        "  for (int i = 0; i < NUM; i++) {\n",
        "      for (int j = 0; j < NUM; j++) {\n",
        "          printf(\"%f \", *(A + i * NUM + j));\n",
        "      }\n",
        "      printf(\"\\n\");\n",
        "  }\n",
        "\n",
        "  printf(\"B: \\n\");\n",
        "\n",
        "  for (int i = 0; i < NUM; i++) {\n",
        "      for (int j = 0; j < NUM; j++) {\n",
        "          printf(\"%f \", *(B + i * NUM + j));\n",
        "      }\n",
        "      printf(\"\\n\");\n",
        "  }\n",
        "\n",
        "  printf(\"C: \\n\");\n",
        "\n",
        "  for (int i = 0; i < NUM; i++) {\n",
        "      for (int j = 0; j < NUM; j++) {\n",
        "          printf(\"%f \", *(C + i * NUM + j));\n",
        "      }\n",
        "      printf(\"\\n\");\n",
        "  }*/\n",
        "\n",
        "  end=clock();\n",
        "  double cpu_time_used = ((double) (end-start))/ CLOCKS_PER_SEC;\n",
        "  printf(\"%f\",cpu_time_used);\n",
        "\n",
        "  free(A);\n",
        "  free(B);\n",
        "  return 0;\n",
        "}"
      ],
      "metadata": {
        "colab": {
          "base_uri": "https://localhost:8080/"
        },
        "id": "yKsotHBUR7ry",
        "outputId": "44b5c5b1-dae6-4709-a493-fd750d511003"
      },
      "execution_count": null,
      "outputs": [
        {
          "output_type": "stream",
          "name": "stdout",
          "text": [
            "16.947889\n"
          ]
        }
      ]
    },
    {
      "cell_type": "markdown",
      "source": [
        "\n",
        "\n",
        "---\n",
        "\n",
        "# Multiplicacion con OpenMP\n",
        "\n",
        "32 64 128 256 512 1024 matrices\n",
        "2 4 8 16 32 hilos"
      ],
      "metadata": {
        "id": "xstkt9m073A2"
      }
    },
    {
      "cell_type": "code",
      "source": [
        "!gcc -o omps -fopenmp openMPSec.c"
      ],
      "metadata": {
        "id": "nDcLps5Cl9iJ"
      },
      "execution_count": null,
      "outputs": []
    },
    {
      "cell_type": "code",
      "source": [
        "!./omps"
      ],
      "metadata": {
        "colab": {
          "base_uri": "https://localhost:8080/"
        },
        "id": "uCg9mihZmJxg",
        "outputId": "badc43a5-96d7-4b79-e9a5-48736253099e"
      },
      "execution_count": null,
      "outputs": [
        {
          "output_type": "stream",
          "name": "stdout",
          "text": [
            "Time elapsed: 7.820039"
          ]
        }
      ]
    },
    {
      "cell_type": "code",
      "source": [
        "#include <stdlib.h>\n",
        "#include <stdio.h>\n",
        "#include <sys/time.h>\n",
        "#include <omp.h>\n",
        "\n",
        "#define NUM 1024\n",
        "#define NUM_THREADS 32\n",
        "\n",
        "struct timeval tv; \n",
        "double get_clock() {\n",
        "   struct timeval tv; int ok;\n",
        "   ok = gettimeofday(&tv, (void *) 0);\n",
        "   return (tv.tv_sec * 1.0 + tv.tv_usec * 1.0E-6); \n",
        "}\n",
        "\n",
        "void check_mul (double *A, double *B, double *C, int n) {\n",
        "    int i, j, k, sum;\n",
        "    for (i = 0; i < n; i++) {\n",
        "        for (j = 0; j < n; j++) {\n",
        "           sum = 0;\n",
        "           for (k = 0; k < n; k++) {\n",
        "               sum += A[i * n + k] * B[k * n + j];\n",
        "           }\n",
        "           if (sum != C[i * n + j]) {\n",
        "               printf(\"Error multiplying matrices\\n\");\n",
        "               exit(1);\n",
        "           }\n",
        "        }\n",
        "    }\n",
        "    printf(\"Multiplication ok\\n\");\n",
        "}\n",
        "\n",
        "int main(int argc, char *argv[]) {\n",
        "\n",
        "\tint i,j,k,ii,jj,kk,sum;\n",
        "\tdouble start,end;\n",
        "\tint numthreads,tid;\n",
        "\n",
        "    double *A = (double *)malloc(NUM * NUM * sizeof(double));\n",
        "    double *B = (double *)malloc(NUM * NUM * sizeof(double));\n",
        "    double *C = (double *)malloc(NUM * NUM * sizeof(double));\n",
        "\n",
        "    // Matrix A and B have random values\n",
        "    for (int i = 0; i < NUM; i++) {\n",
        "        for (int j = 0; j < NUM; j++) {\n",
        "            *(C + i * NUM + j) = 0;\n",
        "            *(A + i * NUM + j) = (float)rand()/(float)(RAND_MAX);\n",
        "            *(B + i * NUM + j) = (float)rand()/(float)(RAND_MAX);\n",
        "        }\n",
        "    }\n",
        "\n",
        "    omp_set_num_threads(NUM_THREADS);\n",
        "\n",
        "    #pragma omp parallel\n",
        "    {\n",
        "        if(omp_get_thread_num()==0)\n",
        "                printf(\"Running with %d threads\\n\",omp_get_num_threads());\n",
        "    }\n",
        "\n",
        "\tstart = get_clock();\n",
        "\t\n",
        "\t#pragma omp parallel for private(i,j,k) \n",
        "    for (int i = 0; i < NUM; i++) {\n",
        "        for (int j = 0; j < NUM; j++) {\n",
        "            *(C + i * NUM + j) = 0;\n",
        "            for (int k = 0; k < NUM; k++) {\n",
        "                *(C + i * NUM + j) += (*(A + i * NUM + k)) * (*(B + k * NUM + j));\n",
        "        }\n",
        "      }\n",
        "    }\n",
        "\t\n",
        "\tend = get_clock();\n",
        "\tprintf(\"Time: %lf\\n\",(end-start));\n",
        "\n",
        "    //check_mul(A,B,C,NUM);\n",
        "\n",
        "    free(A);\n",
        "    free(B);\n",
        "    free(C);\n",
        "\treturn 0;\n",
        "}"
      ],
      "metadata": {
        "id": "TavZr-CL7Vsq"
      },
      "execution_count": null,
      "outputs": []
    },
    {
      "cell_type": "markdown",
      "source": [
        "\n",
        "\n",
        "---\n",
        "# CUDA\n"
      ],
      "metadata": {
        "id": "huKW9S5C-PHZ"
      }
    },
    {
      "cell_type": "code",
      "source": [
        "!nvcc --version\n"
      ],
      "metadata": {
        "colab": {
          "base_uri": "https://localhost:8080/"
        },
        "id": "D9x5KN2S6pEz",
        "outputId": "750186d4-344b-4012-a0d8-a57cf6225ddb"
      },
      "execution_count": 71,
      "outputs": [
        {
          "output_type": "stream",
          "name": "stdout",
          "text": [
            "nvcc: NVIDIA (R) Cuda compiler driver\n",
            "Copyright (c) 2005-2022 NVIDIA Corporation\n",
            "Built on Wed_Sep_21_10:33:58_PDT_2022\n",
            "Cuda compilation tools, release 11.8, V11.8.89\n",
            "Build cuda_11.8.r11.8/compiler.31833905_0\n"
          ]
        }
      ]
    },
    {
      "cell_type": "code",
      "source": [
        "%cd /usr/local/cuda-11/samples/1_Utilities/deviceQuery\n",
        "!make\n",
        "!./deviceQuery"
      ],
      "metadata": {
        "colab": {
          "base_uri": "https://localhost:8080/"
        },
        "id": "vygWZdbNDRY6",
        "outputId": "3bf0e26f-71f7-4c05-f042-8d43e9195c32"
      },
      "execution_count": 72,
      "outputs": [
        {
          "output_type": "stream",
          "name": "stdout",
          "text": [
            "[Errno 2] No such file or directory: '/usr/local/cuda-11/samples/1_Utilities/deviceQuery'\n",
            "/content\n",
            "make: *** No targets specified and no makefile found.  Stop.\n",
            "/bin/bash: ./deviceQuery: No such file or directory\n"
          ]
        }
      ]
    },
    {
      "cell_type": "markdown",
      "source": [
        "Paralelización Personalizada"
      ],
      "metadata": {
        "id": "vGiAweKRPXZM"
      }
    },
    {
      "cell_type": "code",
      "source": [
        "%%cu\n",
        "#include <stdio.h>\n",
        "#include <stdlib.h>\n",
        "#include <math.h>\n",
        "\n",
        "int NUM = 1024;\n",
        "\n",
        "__global__ void matrixMult(float *a, float *b, float *c, int n, int block_size, int grid_size){\n",
        "    \n",
        "  int index = (blockIdx.x * blockDim.x) + threadIdx.x;\n",
        "\n",
        "  int inicio = index * (n*n)/(block_size*grid_size);\n",
        "  int fin = (index + 1) * (n*n)/(block_size*grid_size);\n",
        "\n",
        "  for(long idx = inicio; idx < fin; idx++){\n",
        "        int i = idx / n;\n",
        "        int j = idx % n;\n",
        "        float sum = 0;\n",
        "        for(int k = 0; k < n; k++){\n",
        "            sum += *(a + (i * n) + k) * *(b + (n * k) + j);\n",
        "        }\n",
        "        *(c + (i * n) + j) = sum;\n",
        "  } \n",
        "\n",
        "}\n",
        "\n",
        "int main(void){\n",
        "  cudaError_t cudaStatus;\n",
        "  clock_t start, end;\n",
        "\n",
        "  float *A = (float*)malloc(NUM * NUM * sizeof(float));\n",
        "  float *B = (float*)malloc(NUM * NUM * sizeof(float));\n",
        "  float *C = (float*)malloc(NUM * NUM * sizeof(float));\n",
        "\n",
        "  float *d_A, *d_B, *d_C;\n",
        "\n",
        "  cudaMalloc(&d_A, NUM * NUM * sizeof(float));\n",
        "  cudaMalloc(&d_B, NUM * NUM * sizeof(float));\n",
        "  cudaMalloc(&d_C, NUM * NUM * sizeof(float));\n",
        "\n",
        "  // Matrix A and B have random values\n",
        "  for (int i = 0; i < NUM; i++) {\n",
        "      for (int j = 0; j < NUM; j++) {\n",
        "          *(A + i * NUM + j) = (float)rand()/(float)(RAND_MAX);\n",
        "          *(B + i * NUM + j) = (float)rand()/(float)(RAND_MAX);\n",
        "      }\n",
        "  }\n",
        "\n",
        "  start = clock();\n",
        "\n",
        "  cudaMemcpy(d_A, A, NUM * NUM * sizeof(float), cudaMemcpyHostToDevice);\n",
        "  cudaMemcpy(d_B, B, NUM * NUM * sizeof(float), cudaMemcpyHostToDevice);\n",
        "\n",
        "  //int space = NUM * NUM;\n",
        "  int blockSize = 128; // 32, 64, 128\n",
        "\n",
        "  int gridSize = 40; // 1, 20, 40\n",
        "\n",
        "  matrixMult<<<gridSize,blockSize>>>(d_A, d_B, d_C, NUM, blockSize, gridSize);\n",
        "  cudaDeviceSynchronize();\n",
        "\n",
        "  cudaMemcpy(C, d_C, NUM * NUM * sizeof(float), cudaMemcpyDeviceToHost);\n",
        "\n",
        "  end=clock();\n",
        "\n",
        "  cudaStatus = cudaGetLastError();\n",
        "  if (cudaStatus != cudaSuccess) {\n",
        "     fprintf(stderr, \"addKernel launch failed: %s\\n\", cudaGetErrorString(cudaStatus));\n",
        "     cudaFree(d_A);\n",
        "     cudaFree(d_B);\n",
        "     cudaFree(d_C);\n",
        "     exit(1);\n",
        "  }\n",
        "\n",
        "/*\n",
        "  printf(\"A: \\n\");\n",
        "\n",
        "  for (int i = 0; i < NUM; i++) {\n",
        "      for (int j = 0; j < NUM; j++) {\n",
        "          printf(\"%f \", *(A + i * NUM + j)); // [ 1 2 3 4 5 6 7 8 9]\n",
        "      }\n",
        "      printf(\"\\n\");\n",
        "  }\n",
        "\n",
        "  printf(\"B: \\n\");\n",
        "\n",
        "  for (int i = 0; i < NUM; i++) {\n",
        "      for (int j = 0; j < NUM; j++) {\n",
        "          printf(\"%f \", *(B + i * NUM + j));\n",
        "      }\n",
        "      printf(\"\\n\");\n",
        "  }\n",
        "\n",
        "\n",
        "  printf(\"C: \\n\");\n",
        "\n",
        "  for (int i = 0; i < NUM; i++) {\n",
        "      for (int j = 0; j < NUM; j++) {\n",
        "          printf(\"%f \", *(C + i * NUM + j));\n",
        "      }\n",
        "      printf(\"\\n\");\n",
        "  }\n",
        "*/\n",
        "  double cpu_time_used = ((double) (end-start))/ CLOCKS_PER_SEC;\n",
        "  printf(\"%f\",cpu_time_used);\n",
        "\n",
        "  return 0;\n",
        "}"
      ],
      "metadata": {
        "colab": {
          "base_uri": "https://localhost:8080/"
        },
        "id": "ljT92DNWs2Ao",
        "outputId": "84e8fef2-d5e4-4e93-c414-d6f71bd0a43d"
      },
      "execution_count": null,
      "outputs": [
        {
          "output_type": "stream",
          "name": "stdout",
          "text": [
            "0.034436\n"
          ]
        }
      ]
    },
    {
      "cell_type": "markdown",
      "source": [
        "Tilling multiplication"
      ],
      "metadata": {
        "id": "9IS9oV03PeFV"
      }
    },
    {
      "cell_type": "code",
      "source": [
        "%%cu\n",
        "#include <stdio.h>\n",
        "#include <stdlib.h>\n",
        "#include <math.h>\n",
        "\n",
        "int NUM = 32;\n",
        "const int TILE = 32;\n",
        "\n",
        "__global__ void matrixMult(float *a, float *b, float *c, int n){\n",
        "  int row = blockIdx.y * TILE + threadIdx.y;\n",
        "  int col = blockIdx.x * TILE + threadIdx.x;\n",
        "  float sum = 0;\n",
        "  for (int i = 0; i < n; i++) {\n",
        "    __shared__ float s_a[TILE][TILE];\n",
        "    __shared__ float s_b[TILE][TILE];\n",
        "    s_a[threadIdx.y][threadIdx.x] = a[row * n + i + threadIdx.x];\n",
        "    s_b[threadIdx.y][threadIdx.x] = b[(i + threadIdx.y) * n + col];\n",
        "    __syncthreads();\n",
        "    for (int j = 0; j < TILE; j++) {\n",
        "      sum += s_a[threadIdx.y][j] * s_b[j][threadIdx.x];\n",
        "    }\n",
        "    __syncthreads();\n",
        "  }\n",
        "  c[row * n + col] = sum;\n",
        "}\n",
        "\n",
        "int main(void){\n",
        "  cudaError_t cudaStatus;\n",
        "  clock_t start, end;\n",
        "  \n",
        "\n",
        "  float *A = (float *)malloc(NUM * NUM * sizeof(float));\n",
        "  float *B = (float *)malloc(NUM * NUM * sizeof(float));\n",
        "  float *C = (float *)malloc(NUM * NUM * sizeof(float));\n",
        "\n",
        "  float *d_A, *d_B, *d_C;\n",
        "\n",
        "  cudaMalloc(&d_A, NUM * NUM * sizeof(float));\n",
        "  cudaMalloc(&d_B, NUM * NUM * sizeof(float));\n",
        "  cudaMalloc(&d_C, NUM * NUM * sizeof(float));\n",
        "\n",
        "  // Matrix A and B have random values\n",
        "  for (int i = 0; i < NUM; i++) {\n",
        "      for (int j = 0; j < NUM; j++) {\n",
        "          *(A + i * NUM + j) = (float)rand()/(float)(RAND_MAX);\n",
        "          *(B + i * NUM + j) = (float)rand()/(float)(RAND_MAX);\n",
        "      }\n",
        "  }\n",
        "\n",
        "  start = clock();\n",
        "\n",
        "  cudaMemcpy(d_A, A, NUM * NUM * sizeof(float), cudaMemcpyHostToDevice);\n",
        "  cudaMemcpy(d_B, B, NUM * NUM * sizeof(float), cudaMemcpyHostToDevice);\n",
        "\n",
        "  dim3 block_size(TILE, TILE,1); // 32, 64, 128\n",
        "\n",
        "  dim3 grid_size(NUM/TILE,NUM/TILE,1); // 1, 20, 40\n",
        "\n",
        "    // Use dim3 structs for block  and grid dimensions\n",
        "\n",
        "  matrixMult<<<grid_size,block_size>>>(d_A, d_B, d_C, NUM);\n",
        "\n",
        "  cudaMemcpy(C, d_C, NUM * NUM * sizeof(float), cudaMemcpyDeviceToHost);\n",
        "\n",
        "  end=clock();\n",
        "\n",
        "  cudaStatus = cudaGetLastError();\n",
        "  if (cudaStatus != cudaSuccess) {\n",
        "     fprintf(stderr, \"addKernel launch failed: %s\\n\", cudaGetErrorString(cudaStatus));\n",
        "     cudaFree(d_A);\n",
        "     cudaFree(d_B);\n",
        "     cudaFree(d_C);\n",
        "     exit(1);\n",
        "  }\n",
        "/*\n",
        "  printf(\"A: \\n\");\n",
        "\n",
        "  for (int i = 0; i < NUM; i++) {\n",
        "      for (int j = 0; j < NUM; j++) {\n",
        "          printf(\"%f \", *(A + i * NUM + j));\n",
        "      }\n",
        "      printf(\"\\n\");\n",
        "  }\n",
        "\n",
        "  printf(\"B: \\n\");\n",
        "\n",
        "  for (int i = 0; i < NUM; i++) {\n",
        "      for (int j = 0; j < NUM; j++) {\n",
        "          printf(\"%f \", *(B + i * NUM + j));\n",
        "      }\n",
        "      printf(\"\\n\");\n",
        "  }\n",
        "\n",
        "  printf(\"C: \\n\");\n",
        "\n",
        "  for (int i = 0; i < NUM; i++) {\n",
        "      for (int j = 0; j < NUM; j++) {\n",
        "          printf(\"%f \", *(C + i * NUM + j));\n",
        "      }\n",
        "      printf(\"\\n\");\n",
        "  }\n",
        "*/\n",
        "  double cpu_time_used = ((double) (end-start))/ CLOCKS_PER_SEC;\n",
        "  printf(\"%f\",cpu_time_used);\n",
        "\n",
        "  return 0;\n",
        "}"
      ],
      "metadata": {
        "id": "vrnwerL72vFS",
        "colab": {
          "base_uri": "https://localhost:8080/"
        },
        "outputId": "915c78dc-d138-4976-d6ac-da62be2411ee"
      },
      "execution_count": 79,
      "outputs": [
        {
          "output_type": "stream",
          "name": "stdout",
          "text": [
            "0.000229\n"
          ]
        }
      ]
    },
    {
      "cell_type": "markdown",
      "source": [
        "Fuentes:\n",
        "- Stressen: https://es.wikipedia.org/wiki/Algoritmo_de_Strassen\n",
        "- http://dis.um.es/~domingo/apuntes/AlgProPar/1718/DV+PD.pdf\n",
        "- https://mathworld.wolfram.com/BlockMatrix.html#:~:text=When%20two%20block%20matrices%20have,For%20example%2C&text=Note%20that%20the%20usual%20rules,that%20the%20block%20sizes%20correspond).\n",
        "- https://www.repositoriodigital.ipn.mx/bitstream/123456789/5961/1/PACHUCA%20HERRERA%20YANIRA%20Tesis%202008.pdf\n",
        "- https://stackoverflow.com/questions/2128728/allocate-matrix-in-c"
      ],
      "metadata": {
        "id": "iWfgxEXCgN_H"
      }
    }
  ]
}