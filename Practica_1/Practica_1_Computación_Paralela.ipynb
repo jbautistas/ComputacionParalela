{
  "nbformat": 4,
  "nbformat_minor": 0,
  "metadata": {
    "colab": {
      "provenance": []
    },
    "kernelspec": {
      "name": "python3",
      "display_name": "Python 3"
    },
    "language_info": {
      "name": "python"
    }
  },
  "cells": [
    {
      "cell_type": "markdown",
      "source": [
        "**MULTIPLICACIÓN DE MATRICES**"
      ],
      "metadata": {
        "id": "qXwmY7hMY4BY"
      }
    },
    {
      "cell_type": "markdown",
      "source": [
        "Aplicación Secuencial"
      ],
      "metadata": {
        "id": "Jr7MecigYtb4"
      }
    },
    {
      "cell_type": "code",
      "execution_count": 2,
      "metadata": {
        "colab": {
          "base_uri": "https://localhost:8080/"
        },
        "id": "AOJsYLweJXfX",
        "outputId": "8aac7cb1-b8d0-4243-8e43-420017eb750f"
      },
      "outputs": [
        {
          "output_type": "stream",
          "name": "stdout",
          "text": [
            "Looking in indexes: https://pypi.org/simple, https://us-python.pkg.dev/colab-wheels/public/simple/\n",
            "Collecting git+https://github.com/andreinechaev/nvcc4jupyter.git\n",
            "  Cloning https://github.com/andreinechaev/nvcc4jupyter.git to /tmp/pip-req-build-2whn3qxp\n",
            "  Running command git clone --filter=blob:none --quiet https://github.com/andreinechaev/nvcc4jupyter.git /tmp/pip-req-build-2whn3qxp\n",
            "  Resolved https://github.com/andreinechaev/nvcc4jupyter.git to commit aac710a35f52bb78ab34d2e52517237941399eff\n",
            "  Preparing metadata (setup.py) ... \u001b[?25l\u001b[?25hdone\n",
            "Building wheels for collected packages: NVCCPlugin\n",
            "  Building wheel for NVCCPlugin (setup.py) ... \u001b[?25l\u001b[?25hdone\n",
            "  Created wheel for NVCCPlugin: filename=NVCCPlugin-0.0.2-py3-none-any.whl size=4305 sha256=219abcf0a84a8426a57c633a34105be6ec7da70f4b9d9b6056ec443ea2990790\n",
            "  Stored in directory: /tmp/pip-ephem-wheel-cache-iqf3h_o0/wheels/db/c1/1f/a2bb07bbb4a1ce3c43921252aeafaa6205f08637e292496f04\n",
            "Successfully built NVCCPlugin\n",
            "Installing collected packages: NVCCPlugin\n",
            "Successfully installed NVCCPlugin-0.0.2\n"
          ]
        }
      ],
      "source": [
        "!pip install git+https://github.com/andreinechaev/nvcc4jupyter.git"
      ]
    },
    {
      "cell_type": "code",
      "execution_count": 3,
      "metadata": {
        "id": "rLmAjayhXqGc",
        "colab": {
          "base_uri": "https://localhost:8080/"
        },
        "outputId": "40aea899-a597-4729-84bb-bf7045e5e1a1"
      },
      "outputs": [
        {
          "output_type": "stream",
          "name": "stdout",
          "text": [
            "created output directory at /content/src\n",
            "Out bin /content/result.out\n"
          ]
        }
      ],
      "source": [
        "%load_ext nvcc_plugin"
      ]
    },
    {
      "cell_type": "code",
      "source": [
        "%%cu\n",
        "#include <stdio.h>\n",
        "#include <stdlib.h>\n",
        "#include <math.h>\n",
        "\n",
        "int NUM = 32;\n",
        "\n",
        "int main(void){\n",
        "  clock_t start, end;\n",
        "  start = clock();\n",
        "  int A[NUM][NUM];\n",
        "  int B[NUM][NUM];\n",
        "\n",
        "  for(int i = 0; i < NUM; i ++){\n",
        "      for(int j = 0; j < NUM; j++){\n",
        "          A[i][j] = rand();\n",
        "          B[i][j] = rand();\n",
        "      }\n",
        "  }\n",
        "  \n",
        "  end=clock();\n",
        "  double cpu_time_used = ((double) (end-start))/ CLOCKS_PER_SEC;\n",
        "  printf(\"%f\",cpu_time_used);\n",
        "}"
      ],
      "metadata": {
        "colab": {
          "base_uri": "https://localhost:8080/"
        },
        "id": "yKsotHBUR7ry",
        "outputId": "2889a3d0-a7ab-46cd-e7d7-e3d01366ff05"
      },
      "execution_count": 7,
      "outputs": [
        {
          "output_type": "stream",
          "name": "stdout",
          "text": [
            "\n"
          ]
        }
      ]
    },
    {
      "cell_type": "markdown",
      "source": [
        "Fuentes:\n",
        "- http://dis.um.es/~domingo/apuntes/AlgProPar/1718/DV+PD.pdf\n",
        "- https://mathworld.wolfram.com/BlockMatrix.html#:~:text=When%20two%20block%20matrices%20have,For%20example%2C&text=Note%20that%20the%20usual%20rules,that%20the%20block%20sizes%20correspond).\n",
        "- https://www.repositoriodigital.ipn.mx/bitstream/123456789/5961/1/PACHUCA%20HERRERA%20YANIRA%20Tesis%202008.pdf"
      ],
      "metadata": {
        "id": "iWfgxEXCgN_H"
      }
    }
  ]
}